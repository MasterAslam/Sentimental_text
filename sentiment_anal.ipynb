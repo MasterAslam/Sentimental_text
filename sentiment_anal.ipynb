{
  "nbformat": 4,
  "nbformat_minor": 0,
  "metadata": {
    "colab": {
      "provenance": []
    },
    "kernelspec": {
      "name": "python3",
      "display_name": "Python 3"
    },
    "language_info": {
      "name": "python"
    }
  },
  "cells": [
    {
      "cell_type": "code",
      "execution_count": 24,
      "metadata": {
        "colab": {
          "base_uri": "https://localhost:8080/",
          "height": 368
        },
        "id": "pijFRq6k0VR3",
        "outputId": "6201f6e3-62c6-4319-8b62-924372581118"
      },
      "outputs": [
        {
          "output_type": "stream",
          "name": "stdout",
          "text": [
            "Looking in indexes: https://pypi.org/simple, https://us-python.pkg.dev/colab-wheels/public/simple/\n",
            "Requirement already satisfied: transformers in /usr/local/lib/python3.8/dist-packages (4.25.1)\n",
            "Requirement already satisfied: filelock in /usr/local/lib/python3.8/dist-packages (from transformers) (3.8.0)\n",
            "Requirement already satisfied: pyyaml>=5.1 in /usr/local/lib/python3.8/dist-packages (from transformers) (6.0)\n",
            "Requirement already satisfied: packaging>=20.0 in /usr/local/lib/python3.8/dist-packages (from transformers) (21.3)\n",
            "Requirement already satisfied: regex!=2019.12.17 in /usr/local/lib/python3.8/dist-packages (from transformers) (2022.6.2)\n",
            "Requirement already satisfied: tokenizers!=0.11.3,<0.14,>=0.11.1 in /usr/local/lib/python3.8/dist-packages (from transformers) (0.13.2)\n",
            "Requirement already satisfied: numpy>=1.17 in /usr/local/lib/python3.8/dist-packages (from transformers) (1.21.6)\n",
            "Requirement already satisfied: tqdm>=4.27 in /usr/local/lib/python3.8/dist-packages (from transformers) (4.64.1)\n",
            "Requirement already satisfied: requests in /usr/local/lib/python3.8/dist-packages (from transformers) (2.23.0)\n",
            "Requirement already satisfied: huggingface-hub<1.0,>=0.10.0 in /usr/local/lib/python3.8/dist-packages (from transformers) (0.11.1)\n",
            "Requirement already satisfied: typing-extensions>=3.7.4.3 in /usr/local/lib/python3.8/dist-packages (from huggingface-hub<1.0,>=0.10.0->transformers) (4.4.0)\n",
            "Requirement already satisfied: pyparsing!=3.0.5,>=2.0.2 in /usr/local/lib/python3.8/dist-packages (from packaging>=20.0->transformers) (3.0.9)\n",
            "Requirement already satisfied: certifi>=2017.4.17 in /usr/local/lib/python3.8/dist-packages (from requests->transformers) (2022.9.24)\n",
            "Requirement already satisfied: chardet<4,>=3.0.2 in /usr/local/lib/python3.8/dist-packages (from requests->transformers) (3.0.4)\n",
            "Requirement already satisfied: urllib3!=1.25.0,!=1.25.1,<1.26,>=1.21.1 in /usr/local/lib/python3.8/dist-packages (from requests->transformers) (1.24.3)\n",
            "Requirement already satisfied: idna<3,>=2.5 in /usr/local/lib/python3.8/dist-packages (from requests->transformers) (2.10)\n"
          ]
        },
        {
          "output_type": "execute_result",
          "data": {
            "text/plain": [
              "'This content is for educational purpose only, it is inspired purely by AI spectrum youtube channel'"
            ],
            "application/vnd.google.colaboratory.intrinsic+json": {
              "type": "string"
            }
          },
          "metadata": {},
          "execution_count": 24
        }
      ],
      "source": [
        "!pip install transformers\n",
        "'''This content is for educational purpose only, it is inspired purely by AI spectrum youtube channel'''\n"
      ]
    },
    {
      "cell_type": "code",
      "source": [
        "from transformers import AutoTokenizer, AutoModelForSequenceClassification\n",
        "from scipy.special import softmax"
      ],
      "metadata": {
        "id": "3fBmq8oJ0poK"
      },
      "execution_count": 7,
      "outputs": []
    },
    {
      "cell_type": "code",
      "source": [
        "tweet = \"@Bastardink I fell on slippery floor crying happily @ home http://bastardink.com\"\n",
        "#preprocessing\n",
        "tweet_words = []\n",
        "\n",
        "for word in tweet.split(' '):\n",
        "  if word.startswith('@') and len(word) > 1:\n",
        "    word = '@user'\n",
        "  elif word.startswith('http'):\n",
        "    word = 'http'\n",
        "  tweet_words.append(word)\n",
        "\n",
        "tweet_proc = \" \".join(tweet_words)\n",
        "print(tweet_proc)"
      ],
      "metadata": {
        "id": "d-roLA4z09uZ",
        "colab": {
          "base_uri": "https://localhost:8080/"
        },
        "outputId": "a484bd5e-e733-4a71-e92b-f6a049a156e4"
      },
      "execution_count": 14,
      "outputs": [
        {
          "output_type": "stream",
          "name": "stdout",
          "text": [
            "@user I fell on slippery floor crying happily @ home http\n"
          ]
        }
      ]
    },
    {
      "cell_type": "code",
      "source": [
        "# load modernizer\n",
        "roberta = \"cardiffnlp/twitter-roberta-base-sentiment\"\n",
        "\n",
        "model = AutoModelForSequenceClassification.from_pretrained(roberta)\n",
        "tokenizer = AutoTokenizer.from_pretrained(roberta)\n",
        "labels = ['Negative', 'Neutral', 'Positive']\n",
        "\n",
        "#sentiment analysis\n",
        "encoded_tweet = tokenizer(tweet_proc, return_tensors = 'pt')\n",
        "print(encoded_tweet)\n",
        "\n",
        "'''output = model(encoded_tweet['input_ids'],encoded_tweet['attention_mask'])'''\n",
        "output = model(**encoded_tweet)\n",
        "\n",
        "scores = output[0][0].detach().numpy()\n",
        "scores = softmax(scores)\n",
        "for i in range(len(scores)):\n",
        "  l = labels[i]\n",
        "  s = scores[i]\n",
        "  print(l,\":\",s)\n"
      ],
      "metadata": {
        "colab": {
          "base_uri": "https://localhost:8080/"
        },
        "id": "4Pskmr-E3HpI",
        "outputId": "248896eb-9835-4d81-d1a5-09d373af81e9"
      },
      "execution_count": 21,
      "outputs": [
        {
          "output_type": "stream",
          "name": "stdout",
          "text": [
            "{'input_ids': tensor([[    0,  1039, 12105,    38,  1064,    15, 25645,  1929,  9701, 16534,\n",
            "           787,   184,  2054,     2]]), 'attention_mask': tensor([[1, 1, 1, 1, 1, 1, 1, 1, 1, 1, 1, 1, 1, 1]])}\n",
            "Negative : 0.2372761\n",
            "Neutral : 0.42654747\n",
            "Positive : 0.33617637\n"
          ]
        }
      ]
    },
    {
      "cell_type": "code",
      "source": [],
      "metadata": {
        "id": "WgDf5-HN654B"
      },
      "execution_count": null,
      "outputs": []
    }
  ]
}